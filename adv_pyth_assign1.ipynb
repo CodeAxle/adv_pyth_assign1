{
 "cells": [
  {
   "cell_type": "markdown",
   "id": "eb9d7b1a",
   "metadata": {},
   "source": [
    "# 1."
   ]
  },
  {
   "cell_type": "code",
   "execution_count": 1,
   "id": "d58318ba",
   "metadata": {},
   "outputs": [],
   "source": [
    "# The purpose of Python's Object-Oriented Programming (OOP) is to provide a more organized, modular, \n",
    "#  and efficient way of designing and building software applications. \n",
    "\n",
    "# Here are some key purposes and advantages of using OOP in Python:\n",
    "\n",
    "# a) Modularity: OOP allows us to break down a large program into smaller, manageable parts called objects. \n",
    "#     Each object can be independently developed, tested, and maintained, leading to more modular and reusable code.\n",
    "\n",
    "# b) Encapsulation: OOP promotes the bundling of data (attributes) and methods (functions) that operate on that data \n",
    "#     within a single unit, known as a class. This encapsulation helps in hiding the internal complexity of an object\n",
    "#     and prevents unauthorized access to its data.\n",
    "\n",
    "# c) Inheritance: OOP supports inheritance, where a class (subclass) can inherit attributes and methods from \n",
    "#     another class (superclass). This promotes code reuse and enables us to create hierarchical relationships among classes.\n",
    "\n",
    "# d) Polymorphism: OOP enables polymorphism, which allows objects of different classes to be treated as objects of a common superclass.\n",
    "#     This concept allows for flexibility in programming and facilitates code that can work \n",
    "#     with various object types without needing to know their specific classes."
   ]
  },
  {
   "cell_type": "markdown",
   "id": "62d14dc3",
   "metadata": {},
   "source": [
    "# 2."
   ]
  },
  {
   "cell_type": "code",
   "execution_count": 2,
   "id": "29a9c252",
   "metadata": {},
   "outputs": [],
   "source": [
    "\n",
    "# In Python, when we access an attribute of an object through inheritance, the inheritance search follows a specific order \n",
    "#  known as the Method Resolution Order (MRO). The MRO determines where Python looks for attributes and methods \n",
    "#  in a class hierarchy.\n",
    "\n",
    "# The MRO search starts with the instance's class, then moves up the class hierarchy according to the order in which\n",
    "#  base classes are defined. The order of base classes is determined by the order they are listed inside the parentheses \n",
    "#     in the class definition, starting from left to right.\n",
    "    \n",
    "#  Once Python finds the attribute or method in a class during the MRO search, it stops searching and accesses the attribute\n",
    "#  from that class.\n",
    "\n",
    "# In summary, the inheritance search for an attribute starts from the instance's class, then proceeds up the class hierarchy \n",
    "#  according to the MRO, and stops at the first occurrence of the attribute it finds."
   ]
  },
  {
   "cell_type": "markdown",
   "id": "47a598a8",
   "metadata": {},
   "source": [
    "# 3."
   ]
  },
  {
   "cell_type": "code",
   "execution_count": 3,
   "id": "e105c2ce",
   "metadata": {},
   "outputs": [],
   "source": [
    "# Differences between class object and instance object:\n",
    "\n",
    "# a) Class Object:\n",
    "# i) A class object is a blueprint or template for creating instances (objects) of that class.\n",
    "# ii) It defines the structure, behavior, and properties that its instances will have.\n",
    "# iii) Class objects are created using the class keyword in Python.\n",
    "# iv) They typically contain class attributes (shared among all instances) and methods (functions that operate on instances).\n",
    "# v) Class objects are not directly associated with specific data; they define the attributes and methods that instances \n",
    "#  of the class will possess."
   ]
  },
  {
   "cell_type": "code",
   "execution_count": 4,
   "id": "65182dfc",
   "metadata": {},
   "outputs": [],
   "source": [
    "# example\n",
    "class Car:\n",
    "    # Class attributes\n",
    "    brand = 'Toyota'\n",
    "    year = 2021\n",
    "\n",
    "    # Class method\n",
    "    def drive(self):\n",
    "        print('The car is being driven.')\n",
    "\n",
    "# Class object\n",
    "car_class = Car"
   ]
  },
  {
   "cell_type": "code",
   "execution_count": 5,
   "id": "66191498",
   "metadata": {},
   "outputs": [],
   "source": [
    "# b) Instance Object:\n",
    "# i) An instance object is a specific realization or occurrence of a class. It is created based on the blueprint provided \n",
    "#  by the class object.\n",
    "# ii) Each instance has its own unique data and can access the methods defined in its class.\n",
    "# iii) Instances are created by calling the class object as if it were a function (i.e., invoking the class's constructor).\n",
    "# iv) They encapsulate specific state and behavior as defined by the class but may have different values for attributes."
   ]
  },
  {
   "cell_type": "code",
   "execution_count": 7,
   "id": "bc6224f7",
   "metadata": {},
   "outputs": [
    {
     "name": "stdout",
     "output_type": "stream",
     "text": [
      "The car is being driven.\n"
     ]
    }
   ],
   "source": [
    "#example\n",
    "# Creating instances of the Car class\n",
    "car_instance1 = Car()\n",
    "car_instance2 = Car()\n",
    "# Accessing instance attributes\n",
    "car_instance1.color = 'Red'\n",
    "car_instance2.color = 'Blue'\n",
    "\n",
    "# Calling instance methods\n",
    "car_instance1.drive()  # Output: The car is being driven."
   ]
  },
  {
   "cell_type": "markdown",
   "id": "3b454335",
   "metadata": {},
   "source": [
    "# 4."
   ]
  },
  {
   "cell_type": "code",
   "execution_count": 8,
   "id": "5f50884b",
   "metadata": {},
   "outputs": [],
   "source": [
    "# In Python, the first argument in a class's method function is conventionally named self (as it is widely accepted and considered good practice). \n",
    "# This first argument refers to the instance of the class itself when the method is called. \n",
    "\n",
    "# Here's why self is special and its significance in class methods:\n",
    "\n",
    "# a) Instance Reference:\n",
    "# i) The self parameter serves as a reference to the instance of the class.\n",
    "# ii) When a method is called on an instance, Python automatically passes the instance itself as the first argument to the method.\n",
    "#  This is why we always see self as the first parameter in instance methods.\n",
    "# iii) Using self, you can access the attributes and methods of the specific instance within the method.\n",
    "\n",
    "# b) Instance-specific Data:\n",
    "# i) Inside a method, self allows us to access and manipulate instance-specific data and attributes.\n",
    "# ii) For example, if you we attributes like self.name or self.age, self lets you access and modify these attributes for \n",
    "#  the specific instance the method is being called on.\n",
    "    \n",
    "# c) Method Visibility:\n",
    "# i) Methods that use self are instance methods, which means they are associated with specific instances of the class.\n",
    "# ii) These methods can access and modify instance attributes, providing behavior that varies based on the specific instance's data.\n",
    "\n",
    "# d) Class Scope:\n",
    "# i) Without self, a method would not have access to the instance's attributes and would operate solely within the class scope.\n",
    "# ii) By using self, methods become aware of the instance they belong to and can interact with its data."
   ]
  },
  {
   "cell_type": "code",
   "execution_count": 11,
   "id": "fc22332c",
   "metadata": {},
   "outputs": [
    {
     "name": "stdout",
     "output_type": "stream",
     "text": [
      "My name is Alice and I am 30 years old.\n"
     ]
    }
   ],
   "source": [
    "#exampleclass Person:\n",
    "class Person():\n",
    "    def __init__(self, name, age):\n",
    "        self.name = name\n",
    "        self.age = age\n",
    "\n",
    "    def introduce(self):\n",
    "        return f\"My name is {self.name} and I am {self.age} years old.\"\n",
    "\n",
    "# Creating an instance of Person\n",
    "person1 = Person(\"Hrsh\", 30)\n",
    "\n",
    "# Calling the introduce method on the instance\n",
    "print(person1.introduce())  # Output: My name is Alice and I am 30 years old."
   ]
  },
  {
   "cell_type": "markdown",
   "id": "994684e5",
   "metadata": {},
   "source": [
    "# 5."
   ]
  },
  {
   "cell_type": "code",
   "execution_count": 12,
   "id": "b999aaf0",
   "metadata": {},
   "outputs": [],
   "source": [
    "# The __init__ method in Python is a special method, also known as a constructor, that is automatically called \n",
    "#  when a new instance of a class is created. Its primary purpose is to initialize the attributes of the newly created object.\n",
    "\n",
    "# Here are the key purposes and functionalities of the __init__ method:\n",
    "\n",
    "# a) Initialization of Instance Attributes:\n",
    "# i) The __init__ method is used to initialize the instance variables (attributes) of an object with specific values \n",
    "#  when the object is created.\n",
    "# ii) This allows each instance of the class to have its own unique set of initial values for attributes.\n",
    "\n",
    "# b) Setting Default Values:\n",
    "# i) You can define default values for attributes within the __init__ method, ensuring that instances are created with \n",
    "#  predefined values unless overridden during object creation.\n",
    "\n",
    "# c) Constructor Functionality:\n",
    "# i) The __init__ method serves as the constructor for a class, as it is automatically invoked when a new object of the \n",
    "#  class is instantiated.\n",
    "# ii) It is the first method called after an instance is created, providing an opportunity to perform any necessary setup \n",
    "#  or initialization tasks.\n",
    "\n",
    "# d) Instance-Specific Initialization:\n",
    "# i) Since self is passed as the first argument to __init__, the method has access to the instance itself and can set \n",
    "#  instance-specific attributes based on arguments passed during object creation.\n",
    "\n",
    "# e) Mandatory Initialization Logic:\n",
    "# i) In many cases, certain attributes are mandatory for an object to function properly. The __init__ method ensures that \n",
    "#  these attributes are initialized during object creation, preventing instances from being created in an incomplete \n",
    "#  or inconsistent state."
   ]
  },
  {
   "cell_type": "code",
   "execution_count": 16,
   "id": "ad817eec",
   "metadata": {},
   "outputs": [
    {
     "name": "stdout",
     "output_type": "stream",
     "text": [
      "BMW\n",
      "m4\n",
      "This car is BMW m4 .\n"
     ]
    }
   ],
   "source": [
    "#example \n",
    "class Car:\n",
    "    def __init__(self, car_name, model):\n",
    "        self.car_name = car_name\n",
    "        self.model = model\n",
    "\n",
    "    def introduce(self):\n",
    "        return f\"This car is {self.car_name} {self.model} .\"\n",
    "\n",
    "# Creating an instance of Person with initialization via __init__\n",
    "car1 = Car(\"BMW\", \"m4\")\n",
    "\n",
    "# Accessing instance attributes\n",
    "print(car1.car_name)  # Output: Alice\n",
    "print(car1.model)   # Output: 30\n",
    "\n",
    "# Calling the introduce method\n",
    "print(car1.introduce())  # Output: My name is Alice and I am 30 years old.\n"
   ]
  },
  {
   "cell_type": "markdown",
   "id": "7591763a",
   "metadata": {},
   "source": [
    "# 6."
   ]
  },
  {
   "cell_type": "code",
   "execution_count": 17,
   "id": "bea9d7f3",
   "metadata": {},
   "outputs": [],
   "source": [
    "# Creating a class instance in Python involves following steps:\n",
    "\n",
    "# a) Define the Class:\n",
    "# i) First, we need to define the class using the class keyword followed by the class name. Inside the class definition,\n",
    "#  we can define attributes and methods that describe the behavior and characteristics of objects created from that class.\n",
    "    \n",
    "# b) Initialize the init Method:\n",
    "# i) Within the class definition, define the __init__ method. This special method serves as the constructor and is \n",
    "#  automatically called when a new instance of the class is created. The __init__ method initializes the instance attributes \n",
    "#     (variables) of the class.\n",
    "\n",
    "# c) Instantiate the Class:\n",
    "# i) To create an instance of the class, use the class name followed by parentheses (). If the __init__ method requires any\n",
    "#  arguments (apart from self), pass them inside the parentheses during object creation. These arguments will be used to \n",
    "#  initialize the instance attributes.\n",
    "    \n",
    "# d) Access Instance Attributes and Methods:\n",
    "# i) Once the instance is created, you can access its attributes and methods using dot notation (.). Attributes hold information \n",
    "#  about the object, while methods are functions associated with the object that can perform actions or provide functionality."
   ]
  },
  {
   "cell_type": "code",
   "execution_count": 35,
   "id": "91655f09",
   "metadata": {},
   "outputs": [
    {
     "name": "stdout",
     "output_type": "stream",
     "text": [
      "Alice\n",
      "30\n",
      "My name is Alice and I am 30 years old.\n"
     ]
    }
   ],
   "source": [
    "#example\n",
    "# Define a class named Person\n",
    "class Person:\n",
    "    def __init__(self, name, age):\n",
    "        self.name = name\n",
    "        self.age = age\n",
    "\n",
    "    def introduce(self):\n",
    "        return f\"My name is {self.name} and I am {self.age} years old.\"\n",
    "\n",
    "# Create an instance of the Person class\n",
    "person1 = Person(\"Alice\", 30)\n",
    "\n",
    "# Access instance attributes\n",
    "print(person1.name)  # Output: Alice\n",
    "print(person1.age)   # Output: 30\n",
    "\n",
    "# Call the introduce method\n",
    "print(person1.introduce())  # Output: My name is Alice and I am 30 years old."
   ]
  },
  {
   "cell_type": "markdown",
   "id": "63121f0e",
   "metadata": {},
   "source": [
    "# 7."
   ]
  },
  {
   "cell_type": "code",
   "execution_count": 32,
   "id": "1a359c1b",
   "metadata": {},
   "outputs": [],
   "source": [
    "# Here are the steps to create a class:\n",
    "\n",
    "# a) Use the class Keyword:\n",
    "# i) Start by using the class keyword, followed by the name of the class. Class names typically use CamelCase convention\n",
    "#  (capitalizing the first letter of each word in the name).\n",
    "    \n",
    "# b) Define the Class Body:\n",
    "# i) Inside the class, define attributes (variables) and methods (functions) that describe the properties and behavior of objects\n",
    "#  created from the class.\n",
    "\n",
    "# c) Define the init Method (Optional):\n",
    "# i) If you want to initialize attributes when creating an instance of the class, define the __init__ method within the class.\n",
    "# ii) This special method is called the constructor and is automatically executed when a new instance of the class is created.\n",
    "\n",
    "# d) Define Other Methods:\n",
    "# i) Define other methods (functions) within the class to perform various actions or operations related to the class.\n",
    "\n",
    "# e) Create Instances of the Class:\n",
    "# i) After defining the class, you can create instances (objects) of the class using the class name followed by parentheses ().\n",
    "# ii) If the __init__ method requires any arguments (apart from self), pass them during object creation."
   ]
  },
  {
   "cell_type": "code",
   "execution_count": 36,
   "id": "6f196949",
   "metadata": {},
   "outputs": [
    {
     "name": "stdout",
     "output_type": "stream",
     "text": [
      "India is my country.\n",
      "None\n"
     ]
    }
   ],
   "source": [
    "#example\n",
    "class sample:\n",
    "    # Class attributes\n",
    "    def __init__(self,country):\n",
    "        self.country = country\n",
    "\n",
    "    # Class method\n",
    "    def introduce(self):\n",
    "        print(f'{self.country} is my country.')\n",
    "\n",
    "# Class object\n",
    "samp_class = sample('India')\n",
    "\n",
    "print(samp_class.introduce())\n"
   ]
  },
  {
   "cell_type": "markdown",
   "id": "a091b168",
   "metadata": {},
   "source": [
    "# 8."
   ]
  },
  {
   "cell_type": "code",
   "execution_count": 37,
   "id": "a6a5bc8a",
   "metadata": {},
   "outputs": [],
   "source": [
    "# In object-oriented programming (OOP) using Python, a superclass (or parent class) is a class from which another \n",
    "# class (subclass or child class) inherits properties and behaviors.\n",
    "\n",
    "# Here's how you define superclasses and subclasses in Python:\n",
    "\n",
    "# a) Defining a Superclass:\n",
    "# i) Start by creating a class that contains attributes and methods common to multiple related classes. This class will serve \n",
    "#  as the superclass.\n",
    "# ii) Define attributes and methods inside the superclass as needed.\n",
    "\n",
    "# b) Inheritance:\n",
    "# i) To make a subclass inherit from a superclass, include the superclass name in parentheses after the subclass name \n",
    "#  in the class definition. This establishes an inheritance relationship between the two classes.\n",
    "# ii) When a subclass inherits from a superclass, it automatically gains access to all attributes and methods defined \n",
    "#  in the superclass.\n",
    "    \n",
    "# c) Accessing Superclass Methods:\n",
    "# i) Within subclass methods, you can call superclass methods using the super() function. This allows you to invoke the \n",
    "#  superclass's version of a method, which the subclass may have overridden."
   ]
  },
  {
   "cell_type": "code",
   "execution_count": 39,
   "id": "3fe14351",
   "metadata": {},
   "outputs": [
    {
     "name": "stdout",
     "output_type": "stream",
     "text": [
      "Generic Animal makes a sound\n",
      "Buddy says Woof!\n"
     ]
    }
   ],
   "source": [
    "#example\n",
    "\n",
    "# Define the superclass (parent class)\n",
    "class Animal:\n",
    "    def __init__(self, name):\n",
    "        self.name = name\n",
    "\n",
    "    def speak(self):\n",
    "        return f\"{self.name} makes a sound\"\n",
    "\n",
    "# Define a subclass (child class) inheriting from Animal\n",
    "class Dog(Animal):\n",
    "    def speak(self):\n",
    "        return f\"{self.name} says Woof!\"\n",
    "\n",
    "# Create instances of the subclass\n",
    "animal1 = Animal(\"Generic Animal\")\n",
    "dog1 = Dog(\"Buddy\")\n",
    "\n",
    "# Access superclass and subclass methods\n",
    "print(animal1.speak())  # Output: Generic Animal makes a sound\n",
    "print(dog1.speak())     # Output: Buddy says Woof!\n"
   ]
  },
  {
   "cell_type": "code",
   "execution_count": null,
   "id": "eacadffe",
   "metadata": {},
   "outputs": [],
   "source": []
  }
 ],
 "metadata": {
  "kernelspec": {
   "display_name": "Python 3 (ipykernel)",
   "language": "python",
   "name": "python3"
  },
  "language_info": {
   "codemirror_mode": {
    "name": "ipython",
    "version": 3
   },
   "file_extension": ".py",
   "mimetype": "text/x-python",
   "name": "python",
   "nbconvert_exporter": "python",
   "pygments_lexer": "ipython3",
   "version": "3.11.5"
  }
 },
 "nbformat": 4,
 "nbformat_minor": 5
}
